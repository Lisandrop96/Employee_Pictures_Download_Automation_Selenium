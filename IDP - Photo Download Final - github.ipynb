{
 "cells": [
  {
   "cell_type": "code",
   "execution_count": 1,
   "id": "0f3b3b29-f479-42af-8617-1e190cb0d480",
   "metadata": {
    "tags": []
   },
   "outputs": [],
   "source": [
    "import os\n",
    "import sys \n",
    "import pandas as pd\n",
    "from selenium import webdriver \n",
    "import win32com.client\n",
    "import time\n",
    "from datetime import date\n",
    "import smtplib\n",
    "from email.mime.text import MIMEText\n",
    "from email.mime.multipart import MIMEMultipart\n",
    "from email.mime.application import MIMEApplication\n",
    "\n",
    "import concurrent.futures\n",
    "\n",
    "import requests\n",
    "\n",
    "import threading\n",
    "import shutil\n",
    "\n",
    "\n",
    "from selenium.webdriver.common.by import By\n",
    "from selenium.webdriver.common.keys import Keys\n",
    "\n",
    "from selenium.webdriver.common.action_chains import ActionChains\n",
    "from selenium.webdriver.support.ui import WebDriverWait\n",
    "from selenium.webdriver.support import expected_conditions as EC\n",
    "\n",
    "from selenium.common.exceptions import StaleElementReferenceException, TimeoutException\n",
    "\n",
    "from selenium.webdriver.chrome.service import Service\n",
    "from selenium.webdriver.chrome.options import Options"
   ]
  },
  {
   "cell_type": "code",
   "execution_count": 2,
   "id": "d7b56d38-5d1e-406b-b88a-0c76036ac4fd",
   "metadata": {
    "tags": []
   },
   "outputs": [],
   "source": [
    "#Open ID's Excel\n",
    "\n",
    "top_talents = pd.read_excel(r'C:\\Users\\bd1266\\##\\Photos Automation\\TopTalents.xlsx')\n"
   ]
  },
  {
   "cell_type": "code",
   "execution_count": 3,
   "id": "dad7681d-08f1-4ccc-93f3-a39fdfdd97e1",
   "metadata": {
    "tags": []
   },
   "outputs": [],
   "source": [
    "final_directory = \"C:\\\\Users\\\\##\\\\Images_\""
   ]
  },
  {
   "cell_type": "code",
   "execution_count": 4,
   "id": "2ecf3129-68c3-478d-9bc0-1b07d2e5fd7c",
   "metadata": {
    "tags": []
   },
   "outputs": [],
   "source": [
    "top_talents['Employee ID'] = top_talents['Employee ID'].astype(str)\n"
   ]
  },
  {
   "cell_type": "code",
   "execution_count": 5,
   "id": "40f3e24a-1f34-4585-b850-b666d2ba81e9",
   "metadata": {
    "tags": []
   },
   "outputs": [],
   "source": [
    "top_talents['Employee ID'] = top_talents['Employee ID'].apply(lambda x: str(x).zfill(6))"
   ]
  },
  {
   "cell_type": "code",
   "execution_count": 6,
   "id": "33f184dc-4a53-43cf-8a66-74fb1233b60d",
   "metadata": {
    "tags": []
   },
   "outputs": [
    {
     "data": {
      "text/plain": [
       "'003105'"
      ]
     },
     "execution_count": 6,
     "metadata": {},
     "output_type": "execute_result"
    }
   ],
   "source": [
    "top_talents['Employee ID'][7]"
   ]
  },
  {
   "cell_type": "code",
   "execution_count": 17,
   "id": "6a803ae1-f86d-4bc9-ba9f-699ab1085bc6",
   "metadata": {
    "tags": []
   },
   "outputs": [],
   "source": [
    "def employee_photo(empid, empname):\n",
    "    \n",
    "    print(f\"Starting process for {empname}\")\n",
    "    file_name = str(empid) + \" - \" + empname + \".jpg\"  # Set the desired file name\n",
    "    download_directory = \"C:\\\\Users\\\\bd1266\\\\Downloads\\\\Photo Downloads\"\n",
    "    # Set Chrome options\n",
    "    options = webdriver.ChromeOptions()\n",
    "    prefs = {\n",
    "            \"download.default_directory\": download_directory,\n",
    "             \"download.prompt_for_download\": False,\n",
    "             \"download.directory_upgrade\": True,\n",
    "             \"safebrowsing.enabled\": True,\n",
    "             \"safebrowsing.disable_download_protection\": True}\n",
    "    options.add_experimental_option(\"prefs\", prefs)\n",
    "    \n",
    "\n",
    "\n",
    "    driver = webdriver.Chrome(options=options)\n",
    "\n",
    "   \n",
    "\n",
    "    driver.get(\"https://www.myworkday.com/##/d/home.htmld\")\n",
    "\n",
    "    time.sleep(25)\n",
    "\n",
    "\n",
    "\n",
    "    \n",
    "   \n",
    "    for i in range(3):\n",
    "        try:\n",
    "            search_input =  WebDriverWait(driver, 25).until(\n",
    "                    EC.presence_of_element_located((\n",
    "                        By.XPATH, \"//input[contains(@data-automation-id, 'globalSearchInput')]\"\n",
    "                    ))\n",
    "            )\n",
    "            time.sleep(5)\n",
    "            search_input.send_keys(empid)\n",
    "            time.sleep(10)\n",
    "            search_input.send_keys(Keys.ENTER)\n",
    "            time.sleep(15)\n",
    "            time.sleep(5)\n",
    "        except:\n",
    "            time.sleep(10)\n",
    "        else:\n",
    "            break\n",
    "    assert search_input\n",
    "    \n",
    "    \n",
    "    try:\n",
    "        # enter the profile page\n",
    "        link_element = WebDriverWait(driver, 25).until(\n",
    "            EC.presence_of_element_located((\n",
    "                By.XPATH, \"//a[contains(@data-automation-id, 'pex-search-results-header-title-link')]\"\n",
    "            ))\n",
    "        )\n",
    "        link_element.click()\n",
    "        time.sleep(15)\n",
    "    except Exception as e:\n",
    "        print(f\"could not enter to the profile page: {e}\")\n",
    "        driver.quit()\n",
    "        return\n",
    "        # get the small profile picture element\n",
    "    try:\n",
    "\n",
    "        img_element_= WebDriverWait(driver, 25).until(\n",
    "            EC.presence_of_element_located((By.CSS_SELECTOR, \"img[alt*='employee photo']\"))\n",
    "        )\n",
    "    except Exception as e:\n",
    "        print(f\"\"\"This employee: {empname} seems to have no photo. \n",
    "              Error: {e}\"\"\")\n",
    "        driver.quit()\n",
    "        return\n",
    "\n",
    "    img_element_.click()\n",
    "        #img_element.click()\n",
    "\n",
    "    time.sleep(10)\n",
    "\n",
    "            \n",
    "        # find the element we are actually looking for\n",
    "    try:\n",
    "        img_element_1 = WebDriverWait(driver, 25).until(\n",
    "            EC.presence_of_element_located((By.CLASS_NAME, \"WO0P\"))\n",
    "        )\n",
    "        try:\n",
    "            #if the image was found, lets try to download it with the find_elements method. Data is more accesible that way.\n",
    "            img_element_1_link = driver.find_elements(By.CLASS_NAME, \"WO0P\")[0].get_attribute(\"src\")\n",
    "            # download picture\n",
    "            driver.get(img_element_1_link)\n",
    "            driver.quit()\n",
    "        except:\n",
    "            time.sleep(5)\n",
    "            img_element_1_link = driver.find_elements(By.CLASS_NAME, \"WO0P\")[0].get_attribute(\"src\")\n",
    "            # download picture\n",
    "            driver.get(img_element_1_link)\n",
    "            driver.quit()\n",
    "            \n",
    "    except Exception as e:\n",
    "        print(f\"failed for employee {empname} id {empid} error {e}\")\n",
    "        driver.quit()\n",
    "        return\n",
    "    \n",
    "           #move file\n",
    "    print(\"file downloaded\")\n",
    "    files = os.listdir(download_directory)\n",
    "    assert len(files) == 1, \"Expected exactly one file in the download directory.\"\n",
    "    shutil.move(os.path.join(download_directory, files[0]),\n",
    "        os.path.join(final_directory, file_name))\n"
   ]
  },
  {
   "cell_type": "code",
   "execution_count": null,
   "id": "061b40dd-1152-4581-badc-d52a8d1b317d",
   "metadata": {},
   "outputs": [],
   "source": [
    "for i in range(len(top_talents)):\n",
    "    \n",
    "    empid = top_talents[\"Employee ID\"][i]\n",
    "    empname = top_talents[\"Full Name\"][i]\n",
    "    employee_photo(empid, empname)"
   ]
  }
 ],
 "metadata": {
  "kernelspec": {
   "display_name": "Python 3 (ipykernel)",
   "language": "python",
   "name": "python3"
  },
  "language_info": {
   "codemirror_mode": {
    "name": "ipython",
    "version": 3
   },
   "file_extension": ".py",
   "mimetype": "text/x-python",
   "name": "python",
   "nbconvert_exporter": "python",
   "pygments_lexer": "ipython3",
   "version": "3.11.3"
  }
 },
 "nbformat": 4,
 "nbformat_minor": 5
}
